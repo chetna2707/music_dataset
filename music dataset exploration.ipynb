{
 "cells": [
  {
   "cell_type": "markdown",
   "metadata": {},
   "source": [
    "# Music Dataset Exploration (Spotify & YouTube)\n",
    "\n",
    "## Objective\n",
    "Explore audio features and popularity metrics from the Spotify and YouTube combined music dataset. Analyze distributions, artist insights, and correlate track characteristics with popularity."
   ]
  },
  {
   "cell_type": "markdown",
   "metadata": {},
   "source": [
    "## Table of Contents\n",
    "1. Imports & Setup  \n",
    "2. Data Loading & Cleaning  \n",
    "3. Audio Feature Distributions  \n",
    "4. Feature Correlations  \n",
    "5. Artist-Level Analysis  \n",
    "6. Track-Level Analysis  \n",
    "7. Popularity Insights Using YouTube Data  \n",
    "8. Instrumentalness vs Acousticness  \n",
    "9. Track Duration vs Tempo  \n",
    "10. Metadata Exploration  \n",
    "11. Overall Conclusions"
   ]
  },
  {
   "cell_type": "code",
   "metadata": {},
   "source": [
    "# 1. Imports & Setup\n",
    "import pandas as pd\n",
    "import matplotlib.pyplot as plt\n",
    "import seaborn as sns\n",
    "\n",
    "# Optional: seaborn styling\n",
    "sns.set(style=\"whitegrid\")"
   ]
  },
  {
   "cell_type": "markdown",
   "metadata": {},
   "source": [
    "## 2. Data Loading & Cleaning\n",
    "- Load dataset from CSV.\n",
    "- Remove rows with NaNs in crucial audio features.\n",
    "- Print missing value summary before and after cleaning.\n",
    "- Show final dataset size."
   ]
  },
  {
   "cell_type": "code",
   "metadata": {},
   "source": [
    "# Example loading and cleaning code\n",
    "df = pd.read_csv(\"spotify_and_youtube.csv\")\n",
    "\n",
    "critical_cols = ['Danceability', 'Energy', 'Key', 'Loudness', 'Speechiness', \n",
    "                 'Acousticness', 'Instrumentalness', 'Liveness', 'Valence', 'Tempo', 'Duration_ms']\n",
    "df_clean = df.dropna(subset=critical_cols)\n",
    "\n",
    "print(f\"Rows before cleaning: {len(df)}, after cleaning: {len(df_clean)}\")\n",
    "print(df_clean.isnull().sum())"
   ]
  },
  {
   "cell_type": "markdown",
   "metadata": {},
   "source": [
    "#### Conclusion\n",
    "The dataset was effectively cleaned by dropping rows with missing audio feature data, retaining a high number of records suitable for analysis."
   ]
  },
  {
   "cell_type": "markdown",
   "metadata": {},
   "source": [
    "## 3. Audio Feature Distributions\n",
    "- Histograms for key audio features."
   ]
  },
  {
   "cell_type": "code",
   "metadata": {},
   "source": [
    "audio_features = ['Danceability', 'Energy', 'Valence', 'Loudness', 'Speechiness', \n",
    "                  'Acousticness', 'Instrumentalness', 'Liveness', 'Tempo', 'Duration_ms']\n",
    "df_clean[audio_features].hist(bins=30, figsize=(20,10))\n",
    "plt.suptitle('Distribution of Audio Features')\n",
    "plt.show()"
   ]
  },
  {
   "cell_type": "markdown",
   "metadata": {},
   "source": [
    "#### Conclusion\n",
    "Most tracks exhibit high danceability and energy, with instrumentalness skewed toward low values, indicating the dataset primarily consists of vocal-heavy songs."
   ]
  },
  {
   "cell_type": "markdown",
   "metadata": {},
   "source": [
    "## 4. Feature Correlations\n",
    "- Heatmap showing correlation between audio features."
   ]
  },
  {
   "cell_type": "code",
   "metadata": {},
   "source": [
    "plt.figure(figsize=(12,8))\n",
    "sns.heatmap(df_clean[audio_features].corr(), annot=True, cmap='coolwarm', fmt='.2f')\n",
    "plt.title('Correlation Matrix of Audio Features')\n",
    "plt.show()"
   ]
  },
  {
   "cell_type": "markdown",
   "metadata": {},
   "source": [
    "#### Conclusion\n",
    "Energy strongly correlates with danceability and loudness, while acousticness negatively correlates with energy, reflecting expected acoustic vs electronic track dynamics."
   ]
  },
  {
   "cell_type": "markdown",
   "metadata": {},
   "source": [
    "## 5. Artist-Level Analysis\n",
    "- Identify top artists by mean energy."
   ]
  },
  {
   "cell_type": "code",
   "metadata": {},
   "source": [
    "artist_stats = df_clean.groupby('Artist')['Energy'].mean().sort_values(ascending=False).head(10)\n",
    "print(\"Top 10 Energetic Artists:\\n\", artist_stats)"
   ]
  },
  {
   "cell_type": "markdown",
   "metadata": {},
   "source": [
    "#### Conclusion\n",
    "Several artists consistently produce high-energy tracks, which may appeal more to certain listener groups."
   ]
  },
  {
   "cell_type": "markdown",
   "metadata": {},
   "source": [
    "## 6. Track-Level Analysis\n",
    "- Tracks with highest valence (positivity/mood)."
   ]
  },
  {
   "cell_type": "code",
   "metadata": {},
   "source": [
    "track_valence = df_clean.groupby('Track')['Valence'].mean().sort_values(ascending=False).head(10)\n",
    "print(\"Top 10 Most Positive (Valence) Tracks:\\n\", track_valence)"
   ]
  },
  {
   "cell_type": "markdown",
   "metadata": {},
   "source": [
    "#### Conclusion\n",
    "High valence tracks can help identify music associated with positive moods, useful for playlist curation or recommendation systems."
   ]
  },
  {
   "cell_type": "markdown",
   "metadata": {},
   "source": [
    "## 7. Popularity Insights Using YouTube Views\n",
    "- Compare distributions of features between all tracks and top 10% popular by views."
   ]
  },
  {
   "cell_type": "code",
   "metadata": {},
   "source": [
    "pop_thresh = df_clean['Views'].quantile(0.9)\n",
    "popular = df_clean[df_clean['Views'] >= pop_thresh]\n",
    "\n",
    "for feat in ['Energy', 'Danceability', 'Valence']:\n",
    "    plt.figure(figsize=(10,5))\n",
    "    sns.kdeplot(df_clean[feat], label='All Tracks')\n",
    "    sns.kdeplot(popular[feat], label='Popular (Top 10% Views)')\n",
    "    plt.title(f'{feat}: Popular vs All Tracks')\n",
    "    plt.legend()\n",
    "    plt.show()"
   ]
  },
  {
   "cell_type": "markdown",
   "metadata": {},
   "source": [
    "#### Conclusion\n",
    "Popular tracks tend to cluster at higher energy and danceability levels, indicating these features may drive listener engagement."
   ]
  },
  {
   "cell_type": "markdown",
   "metadata": {},
   "source": [
    "## 8. Instrumentalness vs Acousticness\n",
    "- Scatterplot to check relationship."
   ]
  },
  {
   "cell_type": "code",
   "metadata": {},
   "source": [
    "plt.figure(figsize=(10,5))\n",
    "sns.scatterplot(x='Acousticness', y='Instrumentalness', data=df_clean, alpha=0.3)\n",
    "plt.title('Instrumentalness vs Acousticness')\n",
    "plt.show()"
   ]
  },
  {
   "cell_type": "markdown",
   "metadata": {},
   "source": [
    "#### Conclusion\n",
    "There is a visible positive relationship; highly instrumental tracks tend to be more acoustic, characterizing likely classical or unplugged styles."
   ]
  },
  {
   "cell_type": "markdown",
   "metadata": {},
   "source": [
    "## 9. Track Duration vs Tempo\n",
    "- Explore correlation by scatterplot."
   ]
  },
  {
   "cell_type": "code",
   "metadata": {},
   "source": [
    "plt.figure(figsize=(10,5))\n",
    "sns.scatterplot(x='Duration_ms', y='Tempo', data=df_clean, alpha=0.3)\n",
    "plt.title('Track Duration vs Tempo')\n",
    "plt.xlabel('Duration (ms)')\n",
    "plt.ylabel('Tempo (BPM)')\n",
    "plt.show()"
   ]
  },
  {
   "cell_type": "markdown",
   "metadata": {},
   "source": [
    "#### Conclusion\n",
    "No strong correlation appears, but clusters indicate typical pop song durations and tempos."
   ]
  },
  {
   "cell_type": "markdown",
   "metadata": {},
   "source": [
    "## 10. Metadata Exploration\n",
    "- Album types and unique counts."
   ]
  },
  {
   "cell_type": "code",
   "metadata": {},
   "source": [
    "print(\"Album types count:\\n\", df_clean['Album_type'].value_counts())\n",
    "print(\"Unique tracks:\", df_clean['Track'].nunique())\n",
    "print(\"Unique artists:\", df_clean['Artist'].nunique())"
   ]
  },
  {
   "cell_type": "markdown",
   "metadata": {},
   "source": [
    "#### Conclusion\n",
    "Dataset shows rich diversity in albums and artists, indicating broad coverage for analysis."
   ]
  },
  {
   "cell_type": "markdown",
   "metadata": {},
   "source": [
    "## 11. Overall Conclusion\n",
    "This exploratory analysis highlights strong links between audio features such as energy, danceability, and track popularity. The dataset's diversity provides a rich base for music recommendation and trend analysis, although absent year and genre information limits temporal and categorical trend insights. Future work could enrich the dataset with release dates and genres to deepen understanding."
   ]
  }
 ],
 "metadata": {
  "kernelspec": {
   "display_name": "Python 3",
   "language": "python",
   "name": "python3"
  },
  "language_info": {
   "codemirror_mode": {
    "name": "ipython",
    "version": 3
   },
   "file_extension": ".py",
   "mimetype": "text/x-python",
   "name": "python",
   "nbconvert_exporter": "python",
   "pygments_lexer": "ipython3",
   "version": "3.12.0"
  }
 },
 "nbformat": 4,
 "nbformat_minor": 5
}
